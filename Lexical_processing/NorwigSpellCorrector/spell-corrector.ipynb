{
 "cells": [
  {
   "cell_type": "code",
   "execution_count": 25,
   "metadata": {},
   "outputs": [],
   "source": [
    "import re\n",
    "from collections import Counter"
   ]
  },
  {
   "cell_type": "code",
   "execution_count": 26,
   "metadata": {},
   "outputs": [],
   "source": [
    "# function to tokenise words\n",
    "def words(document):\n",
    "    \"Convert text to lower case and tokenise the document\"\n",
    "    return re.findall(r'\\w+', document.lower())"
   ]
  },
  {
   "cell_type": "code",
   "execution_count": 27,
   "metadata": {},
   "outputs": [],
   "source": [
    "# create a frequency table of all the words of the document\n",
    "all_words = Counter(words(open('big.txt').read()))"
   ]
  },
  {
   "cell_type": "code",
   "execution_count": 28,
   "metadata": {},
   "outputs": [
    {
     "data": {
      "text/plain": [
       "135"
      ]
     },
     "execution_count": 28,
     "metadata": {},
     "output_type": "execute_result"
    }
   ],
   "source": [
    "# check frequency of a random word, say, 'chair'\n",
    "all_words['chair']"
   ]
  },
  {
   "cell_type": "code",
   "execution_count": 29,
   "metadata": {},
   "outputs": [
    {
     "data": {
      "text/plain": [
       "[('the', 79809),\n",
       " ('of', 40024),\n",
       " ('and', 38312),\n",
       " ('to', 28765),\n",
       " ('in', 22023),\n",
       " ('a', 21124),\n",
       " ('that', 12512),\n",
       " ('he', 12401),\n",
       " ('was', 11410),\n",
       " ('it', 10681)]"
      ]
     },
     "execution_count": 29,
     "metadata": {},
     "output_type": "execute_result"
    }
   ],
   "source": [
    "# look at top 10 frequent words\n",
    "all_words.most_common(10)"
   ]
  },
  {
   "cell_type": "code",
   "execution_count": 30,
   "metadata": {},
   "outputs": [],
   "source": [
    "def edits_one(word):\n",
    "    \"Create all edits that are one edit away from `word`.\"\n",
    "    alphabets    = 'abcdefghijklmnopqrstuvwxyz'\n",
    "    splits     = [(word[:i], word[i:])                   for i in range(len(word) + 1)]\n",
    "    deletes    = [left + right[1:]                       for left, right in splits if right]\n",
    "    inserts    = [left + c + right                       for left, right in splits for c in alphabets]\n",
    "    replaces   = [left + c + right[1:]                   for left, right in splits if right for c in alphabets]\n",
    "    transposes = [left + right[1] + right[0] + right[2:] for left, right in splits if len(right)>1]\n",
    "    return set(deletes + inserts + replaces + transposes)"
   ]
  },
  {
   "cell_type": "code",
   "execution_count": 31,
   "metadata": {},
   "outputs": [],
   "source": [
    "def edits_two(word):\n",
    "    \"Create all edits that are two edits away from `word`.\"\n",
    "    return (e2 for e1 in edits_one(word) for e2 in edits_one(e1))"
   ]
  },
  {
   "cell_type": "code",
   "execution_count": 32,
   "metadata": {},
   "outputs": [],
   "source": [
    "def known(words):\n",
    "    \"The subset of `words` that appear in the `all_words`.\"\n",
    "    return set(word for word in words if word in all_words)"
   ]
  },
  {
   "cell_type": "code",
   "execution_count": 33,
   "metadata": {},
   "outputs": [],
   "source": [
    "def possible_corrections(word):\n",
    "    \"Generate possible spelling corrections for word.\"\n",
    "    return (known([word]) or known(edits_one(word)) or known(edits_two(word)) or [word])"
   ]
  },
  {
   "cell_type": "code",
   "execution_count": 34,
   "metadata": {},
   "outputs": [],
   "source": [
    "def prob(word, N=sum(all_words.values())): \n",
    "    \"Probability of `word`: Number of appearances of 'word' / total number of tokens\"\n",
    "    return all_words[word] / N"
   ]
  },
  {
   "cell_type": "code",
   "execution_count": 35,
   "metadata": {},
   "outputs": [
    {
     "name": "stdout",
     "output_type": "stream",
     "text": [
      "336\n",
      "{'monnty', 'ionney', 'montey', 'monnuey', 'mocnney', 'monnes', 'yonney', 'monneh', 'conney', 'kmonney', 'cmonney', 'muonney', 'mongey', 'wonney', 'mronney', 'monndey', 'mqonney', 'mobnney', 'monnkey', 'montney', 'mognney', 'umonney', 'molney', 'monjney', 'monneye', 'monneyv', 'mznney', 'zonney', 'monnuy', 'moneney', 'monncey', 'monnwey', 'monneyz', 'monjey', 'mondey', 'monnhey', 'honney', 'monner', 'monndy', 'monnec', 'monnea', 'monneyn', 'mojney', 'monneny', 'myonney', 'monhey', 'monneo', 'mwnney', 'lmonney', 'amonney', 'msonney', 'monnny', 'moanney', 'monyney', 'monnery', 'mjonney', 'monnemy', 'mofnney', 'monnby', 'monnky', 'gonney', 'qonney', 'monngey', 'mohnney', 'gmonney', 'mbonney', 'mrnney', 'menney', 'monnen', 'minney', 'monneyl', 'jmonney', 'monhney', 'modney', 'monneu', 'monnpy', 'monpey', 'monuey', 'monneyq', 'omnney', 'monyey', 'momney', 'monnfey', 'monxney', 'monfey', 'monnefy', 'mfnney', 'donney', 'monnel', 'moinney', 'monnety', 'mzonney', 'monnney', 'mqnney', 'mouney', 'oonney', 'mxnney', 'monnet', 'monneyy', 'mobney', 'monneky', 'monngy', 'monntey', 'monnwy', 'xonney', 'nmonney', 'monbney', 'bonney', 'monne', 'monneyi', 'mjnney', 'mvonney', 'mornney', 'moxnney', 'monnee', 'monnay', 'monnfy', 'monoey', 'imonney', 'monnejy', 'monniy', 'monneyg', 'monnegy', 'monnly', 'moknney', 'mnoney', 'monnedy', 'monpney', 'monnrey', 'hmonney', 'monnry', 'monwney', 'mlnney', 'moiney', 'mvnney', 'pmonney', 'mongney', 'monnmey', 'monneyp', 'monned', 'rmonney', 'monzney', 'monnvey', 'monzey', 'monlney', 'monnsy', 'moznney', 'monnecy', 'moonney', 'monneiy', 'monnyy', 'monnxey', 'monnez', 'mocney', 'monnsey', 'mhonney', 'aonney', 'monneyh', 'monnmy', 'wmonney', 'mxonney', 'mononey', 'zmonney', 'ponney', 'ronney', 'monneay', 'monnzy', 'monqney', 'monnjey', 'mpnney', 'monkney', 'konney', 'monnei', 'mlonney', 'mnnney', 'monneyw', 'monsney', 'moynney', 'monaney', 'monneyx', 'monnew', 'mtnney', 'mfonney', 'monneq', 'mbnney', 'monneym', 'monnev', 'monnex', 'mopnney', 'mgnney', 'monnek', 'monley', 'monneyo', 'moncney', 'monniey', 'mionney', 'monneyu', 'monneyb', 'msnney', 'meonney', 'mogney', 'mynney', 'modnney', 'dmonney', 'monneey', 'monneyk', 'monneoy', 'moniey', 'mmnney', 'mopney', 'monnexy', 'fmonney', 'monsey', 'uonney', 'monrney', 'moncey', 'mconney', 'moniney', 'monneyj', 'mounney', 'monnef', 'monneby', 'mozney', 'tmonney', 'emonney', 'moeney', 'mosnney', 'smonney', 'monnepy', 'monneyc', 'monneyt', 'vonney', 'motney', 'monaey', 'monnzey', 'mcnney', 'munney', 'monneb', 'monnxy', 'nonney', 'monrey', 'movney', 'mooney', 'mgonney', 'onney', 'mdnney', 'monnpey', 'monnely', 'monney', 'mnney', 'monny', 'mtonney', 'money', 'mosney', 'monnej', 'mownney', 'eonney', 'mkonney', 'motnney', 'monnqey', 'monqey', 'jonney', 'vmonney', 'qmonney', 'monneyr', 'ymonney', 'monnye', 'monnyey', 'monnley', 'mmonney', 'morney', 'monuney', 'sonney', 'monnaey', 'monnbey', 'monfney', 'mokney', 'monneuy', 'monmney', 'mondney', 'monwey', 'bmonney', 'monneya', 'monneyf', 'mknney', 'monnewy', 'monmey', 'monncy', 'manney', 'mohney', 'monnhy', 'monnep', 'monnesy', 'moneny', 'monnehy', 'monnezy', 'monxey', 'xmonney', 'monbey', 'moxney', 'mowney', 'monnem', 'monnoey', 'monnevy', 'mofney', 'movnney', 'lonney', 'monnvy', 'monneg', 'maonney', 'monvney', 'mnonney', 'tonney', 'mhnney', 'momnney', 'moenney', 'mdonney', 'moyney', 'omonney', 'moneey', 'monnoy', 'monneqy', 'monnqy', 'moqney', 'mwonney', 'mponney', 'moaney', 'molnney', 'mojnney', 'moqnney', 'monvey', 'monnjy', 'monkey', 'monneyd', 'monneys', 'fonney'}\n"
     ]
    }
   ],
   "source": [
    "print(len(set(edits_one(\"monney\"))))\n",
    "print(edits_one(\"monney\"))"
   ]
  },
  {
   "cell_type": "code",
   "execution_count": 36,
   "metadata": {},
   "outputs": [
    {
     "name": "stdout",
     "output_type": "stream",
     "text": [
      "{'money', 'monkey'}\n"
     ]
    }
   ],
   "source": [
    "print(known(edits_one(\"monney\")))"
   ]
  },
  {
   "cell_type": "code",
   "execution_count": 37,
   "metadata": {},
   "outputs": [
    {
     "data": {
      "text/plain": [
       "90902"
      ]
     },
     "execution_count": 37,
     "metadata": {},
     "output_type": "execute_result"
    }
   ],
   "source": [
    "len(set(edits_two(\"emfasize\")))"
   ]
  },
  {
   "cell_type": "code",
   "execution_count": 38,
   "metadata": {},
   "outputs": [
    {
     "data": {
      "text/plain": [
       "{'emphasize'}"
      ]
     },
     "execution_count": 38,
     "metadata": {},
     "output_type": "execute_result"
    }
   ],
   "source": [
    "possible_corrections(\"emfasize\")"
   ]
  },
  {
   "cell_type": "code",
   "execution_count": 39,
   "metadata": {},
   "outputs": [
    {
     "name": "stdout",
     "output_type": "stream",
     "text": [
      "51013\n",
      "{'money', 'monkey'}\n"
     ]
    }
   ],
   "source": [
    "# Let's look at words that are two edits away\n",
    "print(len(set(edits_two(\"monney\"))))\n",
    "print(known(edits_one(\"monney\")))"
   ]
  },
  {
   "cell_type": "code",
   "execution_count": 40,
   "metadata": {},
   "outputs": [
    {
     "name": "stdout",
     "output_type": "stream",
     "text": [
      "{'money', 'monkey'}\n"
     ]
    }
   ],
   "source": [
    "# Let's look at possible corrections of a word\n",
    "print(possible_corrections(\"monney\"))"
   ]
  },
  {
   "cell_type": "code",
   "execution_count": 41,
   "metadata": {},
   "outputs": [
    {
     "name": "stdout",
     "output_type": "stream",
     "text": [
      "0.0002922233626303688\n",
      "5.378344097491451e-06\n"
     ]
    }
   ],
   "source": [
    "# Let's look at probability of a word\n",
    "print(prob(\"money\"))\n",
    "print(prob(\"monkey\"))"
   ]
  },
  {
   "cell_type": "code",
   "execution_count": 42,
   "metadata": {},
   "outputs": [],
   "source": [
    "def spell_check(word):\n",
    "    \"Print the most probable spelling correction for `word` out of all the `possible_corrections`\"\n",
    "    correct_word = max(possible_corrections(word), key=prob)\n",
    "    if correct_word != word:\n",
    "        return \"Did you mean \" + correct_word + \"?\"\n",
    "    else:\n",
    "        return \"Correct spelling.\""
   ]
  },
  {
   "cell_type": "code",
   "execution_count": 43,
   "metadata": {},
   "outputs": [
    {
     "name": "stdout",
     "output_type": "stream",
     "text": [
      "Did you mean money?\n"
     ]
    }
   ],
   "source": [
    "# test spell check\n",
    "print(spell_check(\"monney\"))"
   ]
  },
  {
   "cell_type": "code",
   "execution_count": 44,
   "metadata": {},
   "outputs": [],
   "source": [
    "# from the pytho file spell_corrector"
   ]
  },
  {
   "cell_type": "code",
   "execution_count": 45,
   "metadata": {},
   "outputs": [
    {
     "name": "stdout",
     "output_type": "stream",
     "text": [
      "learn\n"
     ]
    }
   ],
   "source": [
    "from spell_corrector import rectify\n",
    "correct = rectify(\"laern\")\n",
    "print(correct)"
   ]
  },
  {
   "cell_type": "code",
   "execution_count": null,
   "metadata": {},
   "outputs": [],
   "source": []
  }
 ],
 "metadata": {
  "kernelspec": {
   "display_name": "Python 3",
   "language": "python",
   "name": "python3"
  },
  "language_info": {
   "codemirror_mode": {
    "name": "ipython",
    "version": 3
   },
   "file_extension": ".py",
   "mimetype": "text/x-python",
   "name": "python",
   "nbconvert_exporter": "python",
   "pygments_lexer": "ipython3",
   "version": "3.7.3"
  }
 },
 "nbformat": 4,
 "nbformat_minor": 2
}
