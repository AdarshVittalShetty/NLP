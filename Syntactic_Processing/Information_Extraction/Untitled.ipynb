{
 "cells": [
  {
   "cell_type": "code",
   "execution_count": 2,
   "metadata": {},
   "outputs": [
    {
     "name": "stdout",
     "output_type": "stream",
     "text": [
      "(S\n",
      "  (NP Rohit/NN)\n",
      "  saw/VBD\n",
      "  (NP the/DT cat/NN)\n",
      "  (VP sit/VB (PP on/IN (NP the/DT  mat/NN))))\n"
     ]
    }
   ],
   "source": [
    "import nltk\n",
    "# chunking example sentence\n",
    "sentence = [(\"Rohit\",\"NN\"), (\"saw\",\"VBD\"), (\"the\",\"DT\"), (\"cat\",\"NN\"), (\"sit\",\"VB\"), (\"on\",\"IN\" ),(\"the\",\"DT\"),(\" mat\",\"NN\")]\n",
    "\n",
    "grammar = \"\"\"S: {<NP><VP>}\n",
    "NP: {<DT|JJ|NN.*>+}\n",
    "PP: {<IN><NP>} \n",
    "VP: {<VB.*><NP|PP>+$} \"\"\"\n",
    "\n",
    "\n",
    "# parse the sentence\n",
    "cp = nltk.RegexpParser(grammar)\n",
    "result = cp.parse(sentence)\n",
    "print(result)"
   ]
  },
  {
   "cell_type": "code",
   "execution_count": null,
   "metadata": {},
   "outputs": [],
   "source": []
  }
 ],
 "metadata": {
  "kernelspec": {
   "display_name": "Python 3",
   "language": "python",
   "name": "python3"
  },
  "language_info": {
   "codemirror_mode": {
    "name": "ipython",
    "version": 3
   },
   "file_extension": ".py",
   "mimetype": "text/x-python",
   "name": "python",
   "nbconvert_exporter": "python",
   "pygments_lexer": "ipython3",
   "version": "3.7.3"
  }
 },
 "nbformat": 4,
 "nbformat_minor": 2
}
